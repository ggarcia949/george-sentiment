{
  "cells": [
    {
      "cell_type": "markdown",
      "id": "7f79baf9",
      "metadata": {
        "id": "7f79baf9"
      },
      "source": [
        "# ADS 509 Sentiment Assignment\n",
        "\n",
        "This notebook holds the Sentiment Assignment for Module 6 in ADS 509, Applied Text Mining. Work through this notebook, writing code and answering questions where required. \n",
        "\n",
        "In a previous assignment you put together Twitter data and lyrics data on two artists. In this assignment we apply sentiment analysis to those data sets. If, for some reason, you did not complete that previous assignment, data to use for this assignment can be found in the assignment materials section of Blackboard. \n"
      ]
    },
    {
      "cell_type": "code",
      "source": [
        "from google.colab import drive\n",
        "drive.mount('/content/drive')"
      ],
      "metadata": {
        "colab": {
          "base_uri": "https://localhost:8080/",
          "height": 0
        },
        "id": "q9Ypom715G8s",
        "outputId": "33abb1cb-6b9b-4eaa-8e9e-0736fb1f0d36"
      },
      "id": "q9Ypom715G8s",
      "execution_count": 5,
      "outputs": [
        {
          "output_type": "stream",
          "name": "stdout",
          "text": [
            "Mounted at /content/drive\n"
          ]
        }
      ]
    },
    {
      "cell_type": "markdown",
      "id": "aae8e2e1",
      "metadata": {
        "id": "aae8e2e1"
      },
      "source": [
        "## General Assignment Instructions\n",
        "\n",
        "These instructions are included in every assignment, to remind you of the coding standards for the class. Feel free to delete this cell after reading it. \n",
        "\n",
        "One sign of mature code is conforming to a style guide. We recommend the [Google Python Style Guide](https://google.github.io/styleguide/pyguide.html). If you use a different style guide, please include a cell with a link. \n",
        "\n",
        "Your code should be relatively easy-to-read, sensibly commented, and clean. Writing code is a messy process, so please be sure to edit your final submission. Remove any cells that are not needed or parts of cells that contain unnecessary code. Remove inessential `import` statements and make sure that all such statements are moved into the designated cell. \n",
        "\n",
        "Make use of non-code cells for written commentary. These cells should be grammatical and clearly written. In some of these cells you will have questions to answer. The questions will be marked by a \"Q:\" and will have a corresponding \"A:\" spot for you. *Make sure to answer every question marked with a `Q:` for full credit.* \n"
      ]
    },
    {
      "cell_type": "code",
      "source": [
        "pip install emoji"
      ],
      "metadata": {
        "colab": {
          "base_uri": "https://localhost:8080/",
          "height": 0
        },
        "id": "SJC6P2v-5coa",
        "outputId": "7f7b05a4-a26c-47b4-c5fb-19b49386a953"
      },
      "id": "SJC6P2v-5coa",
      "execution_count": 6,
      "outputs": [
        {
          "output_type": "stream",
          "name": "stdout",
          "text": [
            "Looking in indexes: https://pypi.org/simple, https://us-python.pkg.dev/colab-wheels/public/simple/\n",
            "Collecting emoji\n",
            "  Downloading emoji-2.2.0.tar.gz (240 kB)\n",
            "\u001b[2K     \u001b[90m━━━━━━━━━━━━━━━━━━━━━━━━━━━━━━━━━━━━━━\u001b[0m \u001b[32m240.9/240.9 KB\u001b[0m \u001b[31m18.8 MB/s\u001b[0m eta \u001b[36m0:00:00\u001b[0m\n",
            "\u001b[?25h  Preparing metadata (setup.py) ... \u001b[?25l\u001b[?25hdone\n",
            "Building wheels for collected packages: emoji\n",
            "  Building wheel for emoji (setup.py) ... \u001b[?25l\u001b[?25hdone\n",
            "  Created wheel for emoji: filename=emoji-2.2.0-py3-none-any.whl size=234926 sha256=7bc51f73553c4dab738d62985c1733b25a86b68ec452cec42e01429cbdae9db0\n",
            "  Stored in directory: /root/.cache/pip/wheels/86/62/9e/a6b27a681abcde69970dbc0326ff51955f3beac72f15696984\n",
            "Successfully built emoji\n",
            "Installing collected packages: emoji\n",
            "Successfully installed emoji-2.2.0\n"
          ]
        }
      ]
    },
    {
      "cell_type": "code",
      "source": [
        "pip install nltk"
      ],
      "metadata": {
        "colab": {
          "base_uri": "https://localhost:8080/",
          "height": 0
        },
        "id": "wYDwfAMs50i7",
        "outputId": "0aa281d1-f491-4184-ac33-e16e801ad8d7"
      },
      "id": "wYDwfAMs50i7",
      "execution_count": 7,
      "outputs": [
        {
          "output_type": "stream",
          "name": "stdout",
          "text": [
            "Looking in indexes: https://pypi.org/simple, https://us-python.pkg.dev/colab-wheels/public/simple/\n",
            "Requirement already satisfied: nltk in /usr/local/lib/python3.8/dist-packages (3.7)\n",
            "Requirement already satisfied: joblib in /usr/local/lib/python3.8/dist-packages (from nltk) (1.2.0)\n",
            "Requirement already satisfied: regex>=2021.8.3 in /usr/local/lib/python3.8/dist-packages (from nltk) (2022.6.2)\n",
            "Requirement already satisfied: tqdm in /usr/local/lib/python3.8/dist-packages (from nltk) (4.64.1)\n",
            "Requirement already satisfied: click in /usr/local/lib/python3.8/dist-packages (from nltk) (7.1.2)\n"
          ]
        }
      ]
    },
    {
      "cell_type": "code",
      "source": [
        "import torch\n",
        "device = torch.device(\"cuda\" if torch.cuda.is_available() else \"cpu\")"
      ],
      "metadata": {
        "id": "7OSGjdT-NH_Y"
      },
      "id": "7OSGjdT-NH_Y",
      "execution_count": 2,
      "outputs": []
    },
    {
      "cell_type": "code",
      "execution_count": 8,
      "id": "e2d096b7",
      "metadata": {
        "colab": {
          "base_uri": "https://localhost:8080/",
          "height": 0
        },
        "id": "e2d096b7",
        "outputId": "bef7dc53-3032-4a6b-be77-b51fb4f4dec0"
      },
      "outputs": [
        {
          "output_type": "stream",
          "name": "stderr",
          "text": [
            "[nltk_data] Downloading package stopwords to /root/nltk_data...\n",
            "[nltk_data]   Unzipping corpora/stopwords.zip.\n"
          ]
        }
      ],
      "source": [
        "import os\n",
        "import re\n",
        "import emoji\n",
        "import pandas as pd\n",
        "import numpy as np\n",
        "import nltk\n",
        "\n",
        "from collections import Counter, defaultdict\n",
        "from string import punctuation\n",
        "\n",
        "nltk.download('stopwords')\n",
        "\n",
        "from nltk.corpus import stopwords\n",
        "\n",
        "sw = stopwords.words(\"english\")"
      ]
    },
    {
      "cell_type": "code",
      "execution_count": null,
      "id": "6b555ab2",
      "metadata": {
        "id": "6b555ab2"
      },
      "outputs": [],
      "source": [
        "# Add any additional import statements you need here\n",
        "\n",
        "\n"
      ]
    },
    {
      "cell_type": "code",
      "execution_count": 9,
      "id": "923b5a86",
      "metadata": {
        "id": "923b5a86"
      },
      "outputs": [],
      "source": [
        "# change `data_location` to the location of the folder on your machine.\n",
        "data_location = \"/content/drive/MyDrive/Colab Notebooks/GitHub/\"\n",
        "\n",
        "# These subfolders should still work if you correctly stored the \n",
        "# data from the Module 1 assignment\n",
        "twitter_folder = \"twitter/\"\n",
        "lyrics_folder = \"lyrics/\"\n",
        "\n",
        "positive_words_file = \"positive-words.txt\"\n",
        "negative_words_file = \"negative-words.txt\"\n",
        "tidy_text_file = \"tidytext_sentiments.txt\""
      ]
    },
    {
      "cell_type": "markdown",
      "id": "9d3bf93e",
      "metadata": {
        "id": "9d3bf93e"
      },
      "source": [
        "## Data Input\n",
        "\n",
        "Now read in each of the corpora. For the lyrics data, it may be convenient to store the entire contents of the file to make it easier to inspect the titles individually, as you'll do in the last part of the assignment. In the solution, I stored the lyrics data in a dictionary with two dimensions of keys: artist and song. The value was the file contents. A Pandas data frame would work equally well. \n",
        "\n",
        "For the Twitter data, we only need the description field for this assignment. Feel free all the descriptions read it into a data structure. In the solution, I stored the descriptions as a dictionary of lists, with the key being the artist. \n",
        "\n",
        "\n"
      ]
    },
    {
      "cell_type": "code",
      "execution_count": 10,
      "id": "37d70801",
      "metadata": {
        "colab": {
          "base_uri": "https://localhost:8080/",
          "height": 0
        },
        "id": "37d70801",
        "outputId": "f245dd8e-f6c6-4267-d234-f129aa4f0a7f"
      },
      "outputs": [
        {
          "output_type": "stream",
          "name": "stdout",
          "text": [
            "420 songs successfully loaded for the artists robyn, cher.\n"
          ]
        }
      ],
      "source": [
        "# Read in the lyrics data\n",
        "artists = ['robyn','cher']\n",
        "\n",
        "lyrics_data = pd.DataFrame(columns=['artist', 'filename', 'lyrics'])\n",
        "\n",
        "for artist in artists:\n",
        "    lyrics_files = os.listdir(data_location + lyrics_folder + artist)\n",
        "    for filename in lyrics_files:\n",
        "        with open(data_location + lyrics_folder + artist + \"/\" + filename, encoding=\"utf-8\") as infile:\n",
        "            lyrics = infile.read()\n",
        "            lyrics_data = lyrics_data.append({'artist': artist, 'filename': filename, 'lyrics': lyrics}, ignore_index=True)\n",
        "\n",
        "print(f\"{len(lyrics_data)} songs successfully loaded for the artists {', '.join(artists)}.\")"
      ]
    },
    {
      "cell_type": "code",
      "source": [
        "# Read in the twitter data\n",
        "handles = [\"robynkonichiwa\",\"cher\"]\n",
        "\n",
        "twitter_data = pd.DataFrame(columns=['handle', 'description'])\n",
        "\n",
        "for handle in handles:\n",
        "    twitter_file = f\"{data_location}{twitter_folder}{handle}_followers_data.txt\"\n",
        "    with open(twitter_file, 'r', encoding=\"utf-8\") as infile:\n",
        "        df = pd.read_csv(infile, sep='\\t', skiprows=[0], header=None, usecols=[6], names=['description'])\n",
        "        df['handle'] = handle\n",
        "        twitter_data = twitter_data.append(df[['handle', 'description']], ignore_index=True)\n",
        "            \n",
        "    print(f\"{len(df)} descriptions successfully loaded for the handle {handle}.\")\n",
        "\n",
        "print(f\"{len(twitter_data)} descriptions successfully loaded for the handles {', '.join(handles)}.\")\n"
      ],
      "metadata": {
        "colab": {
          "base_uri": "https://localhost:8080/",
          "height": 0
        },
        "id": "CQJxTpG-EsPu",
        "outputId": "3ecf5b75-fe29-4ef9-9a23-a4b0a5ebd4c8"
      },
      "id": "CQJxTpG-EsPu",
      "execution_count": 11,
      "outputs": [
        {
          "output_type": "stream",
          "name": "stdout",
          "text": [
            "351839 descriptions successfully loaded for the handle robynkonichiwa.\n",
            "3916321 descriptions successfully loaded for the handle cher.\n",
            "4268160 descriptions successfully loaded for the handles robynkonichiwa, cher.\n"
          ]
        }
      ]
    },
    {
      "cell_type": "code",
      "execution_count": null,
      "id": "af9e7a4b",
      "metadata": {
        "id": "af9e7a4b"
      },
      "outputs": [],
      "source": [
        "# Read in the positive and negative words and the\n",
        "# tidytext sentiment. Store these so that the positive\n",
        "# words are associated with a score of +1 and negative words\n",
        "# are associated with a score of -1. You can use a dataframe or a \n",
        "# dictionary for this."
      ]
    },
    {
      "cell_type": "code",
      "source": [
        "from nltk.tokenize import word_tokenize\n",
        "nltk.download('punkt')"
      ],
      "metadata": {
        "colab": {
          "base_uri": "https://localhost:8080/",
          "height": 0
        },
        "id": "HtmSj2L7Rg2H",
        "outputId": "32b9b498-b3db-4bc6-9ce4-bbf73fdda22f"
      },
      "id": "HtmSj2L7Rg2H",
      "execution_count": 22,
      "outputs": [
        {
          "output_type": "stream",
          "name": "stderr",
          "text": [
            "[nltk_data] Downloading package punkt to /root/nltk_data...\n",
            "[nltk_data]   Unzipping tokenizers/punkt.zip.\n"
          ]
        },
        {
          "output_type": "execute_result",
          "data": {
            "text/plain": [
              "True"
            ]
          },
          "metadata": {},
          "execution_count": 22
        }
      ]
    },
    {
      "cell_type": "code",
      "source": [
        "# Load positive and negative words into dictionaries\n",
        "pos_score = 1\n",
        "neg_score = -1\n",
        "pos_words = set(pd.read_csv(data_location + positive_words_file, header=None, names=['word'], encoding='latin-1')['word'])\n",
        "neg_words = set(pd.read_csv(data_location + negative_words_file, header=None, names=['word'], encoding='latin-1')['word'])\n",
        "word_dict = {}\n",
        "for word in pos_words:\n",
        "    word_dict[word] = pos_score\n",
        "for word in neg_words:\n",
        "    word_dict[word] = neg_score\n"
      ],
      "metadata": {
        "id": "HngiUIOjRcN9"
      },
      "id": "HngiUIOjRcN9",
      "execution_count": 19,
      "outputs": []
    },
    {
      "cell_type": "code",
      "source": [
        "# Load the tidytext sentiment\n",
        "tidytext_sentiment = pd.read_csv(data_location + tidy_text_file, usecols=['word', 'sentiment'], delimiter='\\t')\n",
        "\n",
        "# Convert tidytext sentiment to a dictionary\n",
        "sentiment_dict = dict(zip(tidytext_sentiment['word'], tidytext_sentiment['sentiment']))"
      ],
      "metadata": {
        "id": "EzIBzq-BRmOR"
      },
      "id": "EzIBzq-BRmOR",
      "execution_count": 20,
      "outputs": []
    },
    {
      "cell_type": "markdown",
      "id": "6a5f3b12",
      "metadata": {
        "id": "6a5f3b12"
      },
      "source": [
        "## Sentiment Analysis on Songs\n",
        "\n",
        "In this section, score the sentiment for all the songs for both artists in your data set. Score the sentiment by manually calculating the sentiment using the combined lexicons provided in this repository. \n",
        "\n",
        "After you have calculated these sentiments, answer the questions at the end of this section.\n"
      ]
    },
    {
      "cell_type": "code",
      "execution_count": 28,
      "id": "664f8d8f",
      "metadata": {
        "id": "664f8d8f"
      },
      "outputs": [],
      "source": [
        "# your code here\n",
        "def get_sentiment_score(text):\n",
        "    # Tokenize the text into individual words\n",
        "    words = word_tokenize(text.lower())\n",
        "    \n",
        "    # Calculate the sentiment score\n",
        "    sentiment_score = 0\n",
        "    for word in words:\n",
        "        # Look up the sentiment of the word in the dictionary\n",
        "        sentiment = sentiment_dict.get(word)\n",
        "        \n",
        "        # If the sentiment is positive, add 1 to the score\n",
        "        if sentiment == 'positive':\n",
        "            sentiment_score += 1\n",
        "        # If the sentiment is negative, subtract 1 from the score\n",
        "        elif sentiment == 'negative':\n",
        "            sentiment_score -= 1\n",
        "    \n",
        "    # Normalize the sentiment score by the number of words in the text\n",
        "    normalized_sentiment_score = sentiment_score / len(words) if len(words) > 0 else 0\n",
        "    \n",
        "    return normalized_sentiment_score\n",
        "\n",
        "# Apply the sentiment scoring function to the lyrics dataframe\n",
        "lyrics_data['sentiment_score'] = lyrics_data['lyrics'].apply(get_sentiment_score)"
      ]
    },
    {
      "cell_type": "markdown",
      "source": [
        "Q: Overall, which artist has the higher average sentiment per song? \n",
        "\n",
        "A: <!-- Your answer here --> robyn has the higher sentiment score with a score of 0.029665"
      ],
      "metadata": {
        "id": "b1VsvG-FVl_H"
      },
      "id": "b1VsvG-FVl_H"
    },
    {
      "cell_type": "code",
      "source": [
        "avg_sentiment = lyrics_data.groupby('artist')['sentiment_score'].mean()\n",
        "print(avg_sentiment)"
      ],
      "metadata": {
        "colab": {
          "base_uri": "https://localhost:8080/",
          "height": 0
        },
        "id": "_csAxLO4TlNs",
        "outputId": "1711c303-d95a-49d1-9c73-e0285c818421"
      },
      "id": "_csAxLO4TlNs",
      "execution_count": 25,
      "outputs": [
        {
          "output_type": "stream",
          "name": "stdout",
          "text": [
            "artist\n",
            "cher     0.026867\n",
            "robyn    0.029665\n",
            "Name: sentiment_score, dtype: float64\n"
          ]
        }
      ]
    },
    {
      "cell_type": "markdown",
      "source": [
        "Q: For your first artist, what are the three songs that have the highest and lowest sentiments? Print the lyrics of those songs to the screen. What do you think is driving the sentiment score? \n",
        "\n",
        "A: <!-- Your answer here --> they is have more positive words in the top three or have a higher frequency of the negative words in bottom three "
      ],
      "metadata": {
        "id": "v8FE-4hTbKOj"
      },
      "id": "v8FE-4hTbKOj"
    },
    {
      "cell_type": "code",
      "source": [
        "artist = 'robyn'\n",
        "artist_lyrics = lyrics_data[lyrics_data['artist'] == artist]\n",
        "artist_lyrics_sorted = artist_lyrics.sort_values('sentiment_score', ascending=False)\n",
        "\n",
        "print(f\"Top 3 songs by {artist} with highest sentiment:\")\n",
        "for i in range(3):\n",
        "    print(artist_lyrics_sorted.iloc[i]['lyrics'])\n",
        "    print(\"-----\")\n",
        "\n",
        "print(f\"Top 3 songs by {artist} with lowest sentiment:\")\n",
        "for i in range(-1, -4, -1):\n",
        "    print(artist_lyrics_sorted.iloc[i]['lyrics'])\n",
        "    print(\"-----\")"
      ],
      "metadata": {
        "colab": {
          "base_uri": "https://localhost:8080/",
          "height": 0
        },
        "id": "Bi8k4wGyUehh",
        "outputId": "1516dd54-36ac-4d6f-c848-51bb0a0b86a0"
      },
      "id": "Bi8k4wGyUehh",
      "execution_count": 32,
      "outputs": [
        {
          "output_type": "stream",
          "name": "stdout",
          "text": [
            "Top 3 songs by robyn with highest sentiment:\n",
            "\"Baby Forgive Me\"\n",
            "\n",
            "\n",
            "\n",
            "Here come the night\n",
            "In your eyes\n",
            "Baby, be brave\n",
            "Be wise\n",
            "It's up to you\n",
            "You do what you like, mmm\n",
            "Won't you give it a chance, baby?\n",
            "Just one more try\n",
            "\n",
            "Baby forgive me\n",
            "Baby forgive me\n",
            "Baby forgive me\n",
            "Baby forgive me\n",
            "\n",
            "(Won't you give it a chance, baby?)\n",
            "Won't you give it a chance, baby?\n",
            "Just one more try\n",
            "One more try\n",
            "Yeah, eh\n",
            "\n",
            "You got the power\n",
            "You set the price\n",
            "But baby, be fair\n",
            "Be nice\n",
            "You say you want to be happy\n",
            "Then you got to put your love on the line\n",
            "Just let me make you smile again, baby\n",
            "I know we can work it out\n",
            "Yes, I know we can\n",
            "\n",
            "Baby forgive me\n",
            "Yeah\n",
            "Baby forgive me\n",
            "Baby forgive me\n",
            "Baby forgive me\n",
            "Baby forgive me\n",
            "Baby forgive me\n",
            "Baby forgive me\n",
            "Baby forgive me\n",
            "\n",
            "-----\n",
            "\"Love Is Free\"\n",
            "\n",
            "\n",
            "\n",
            "Free\n",
            "Love is free, baby\n",
            "Free\n",
            "Love is free, baby\n",
            "Boom boom boom boom boom chica boom\n",
            "Let me give it to you, baby\n",
            "Chica boom chica boom chica boom\n",
            "Chica boom chica boom chica boom\n",
            "Free\n",
            "Love is free, baby\n",
            "Free\n",
            "Love is free, baby\n",
            "Boom boom boom boom boom chica boom\n",
            "Let me give it to you, baby\n",
            "\n",
            "I'ma give it to you, baby\n",
            "I'ma give it when I'm ready\n",
            "Some lose, some steady\n",
            "Some light, some heavy\n",
            "It's all over this city\n",
            "Sometimes in the ugly, sometimes in the pretty\n",
            "You never know where you get it cause you can't control it and you can't unfold it, slow down\n",
            "\n",
            "I'ma give it to you, baby\n",
            "I'ma give it when I'm ready\n",
            "Some lose, some steady\n",
            "Some light, some heavy\n",
            "It's all over this city\n",
            "Sometimes in the ugly, sometimes in the pretty\n",
            "You never know where you get it cause you can't control it and you can't unfold it, slow down\n",
            "\n",
            "Free\n",
            "Love is free, baby\n",
            "Free\n",
            "Love is free, baby\n",
            "Boom boom boom boom boom chica boom\n",
            "Let me give it to you, baby\n",
            "Yeah! Yeah! Yeah! Yeah!\n",
            "Love is free, baby\n",
            "Love is free, baby\n",
            "\n",
            "I'ma give it to you, baby\n",
            "I'ma give it like a motha\n",
            "Safe like a rubber\n",
            "Mutter like a stutter\n",
            "It's all over this city\n",
            "Sometimes in the nitty, sometimes in the gritty\n",
            "You know I'ma give it to you better\n",
            "I'ma give you love forever\n",
            "No, you can't control it, slow down\n",
            "\n",
            "I'ma give it to you, baby\n",
            "I'ma give it like a motha\n",
            "Safe like a rubber\n",
            "Mutter like a stutter\n",
            "It's all over this city\n",
            "Sometimes in the nitty, sometimes in the gritty\n",
            "You know I'ma give it to you better\n",
            "I'ma give you love forever\n",
            "No, you can't control it, slow down\n",
            "\n",
            "Free\n",
            "Love is free, baby\n",
            "Free\n",
            "Love is free, baby\n",
            "Boom boom boom boom boom chica boom\n",
            "Let me give it to you, baby\n",
            "Boom boom boom boom boom\n",
            "Chica boom chica boom chica boom\n",
            "Boom boom boom boom boom\n",
            "Chica boom chica boom chica boom\n",
            "Free\n",
            "Love is free, baby\n",
            "Free\n",
            "Love is free, baby\n",
            "\n",
            "AprÃ©ndelo, aprÃ©ndelo\n",
            "Te lo digo right now, sÃ³lo entiÃ©ndelo\n",
            "AprÃ©ndelo, aprÃ©ndelo\n",
            "Te lo digo right now, sÃ³lo entiÃ©ndelo\n",
            "Slow down\n",
            "\n",
            "AprÃ©ndelo, aprÃ©ndelo\n",
            "Te lo digo right now, sÃ³lo entiÃ©ndelo\n",
            "AprÃ©ndelo, aprÃ©ndelo\n",
            "Te lo digo right now, sÃ³lo entiÃ©ndelo\n",
            "Slow down\n",
            "\n",
            "I'ma give it to you, baby\n",
            "I'ma give it when I'm ready\n",
            "Some lose, some steady\n",
            "Some light, some heavy\n",
            "It's all over this city\n",
            "Sometimes in the ugly, sometimes in the pretty\n",
            "You never know where you get it cause you can't control it and you can't unfold it, slow down\n",
            "\n",
            "Slow down [x6]\n",
            "Free\n",
            "Love is free, baby\n",
            "Love is free, baby\n",
            "So free [x4]\n",
            "You know\n",
            "Love is free\n",
            "So free\n",
            "Free â Love is free, baby [x8]\n",
            "So free\n",
            "\n",
            "-----\n",
            "\"We Dance To The Beat\"\n",
            "\n",
            "\n",
            "\n",
            "We dance to the beat\n",
            "We dance to the beat\n",
            "We dance to the beat\n",
            "We dance to the beat\n",
            "We dance to the beat\n",
            "We dance to the beat\n",
            "We dance to the beat\n",
            "We dance to the beat\n",
            "We dance to the beat\n",
            "We dance to the beat\n",
            "We dance to the beat\n",
            "We dance to the beat\n",
            "We dance to the beat\n",
            "We dance to the beat\n",
            "We dance to the beat\n",
            "We dance to the beat\n",
            "\n",
            "We dance to the beat of the continents shifting under our feet\n",
            "We dance to the beat\n",
            "We dance to the beat\n",
            "We dance to the beat of a new, better, faster breed\n",
            "We dance to the beat\n",
            "We dance to the beat\n",
            "We dance to the beat of radioactivity blocking the exits\n",
            "We dance to the beat\n",
            "We dance to the beat\n",
            "We dance to the beat of false math and unrecognised genius\n",
            "We dance to the beat\n",
            "We dance to the beat\n",
            "We dance to the beat of distorted knowledge passed on\n",
            "We dance to the beat\n",
            "We dance to the beat\n",
            "We dance to the beat of a distant rumble\n",
            "We dance to the beat\n",
            "We dancing\n",
            "And it's loud and proud\n",
            "And it's loud and proud\n",
            "And it's loud and proud\n",
            "\n",
            "We dance to the beat\n",
            "We dance to the beat\n",
            "We dance to the beat\n",
            "We dance to the beat\n",
            "\n",
            "We dance to the beat of silent mutation\n",
            "We dance to the beat of your brain not evolving fast enough\n",
            "We dance to the beat of raw talent wasted\n",
            "We dance to the beat of bad kissers clicking teeth\n",
            "We dance to the beat of opportunity knocking\n",
            "We dance to the beat of an eviction next door\n",
            "We dance to the beat\n",
            "We dance to the beat \n",
            "Of another recycled rebellion\n",
            "Of consolidating assets\n",
            "Of another crowd losing it\n",
            "Of your voice breaking up in static\n",
            "Of suburbia burning\n",
            "Of communication gone mad\n",
            "We dance to the beat\n",
            "We dance to the beat\n",
            "We dance to the beat\n",
            "We dance to the beat\n",
            "\n",
            "And we don't stop\n",
            "And we don't stop\n",
            "And we don't stop\n",
            "And we don't stop\n",
            "And we don't stop\n",
            "\n",
            "We dance to the beat\n",
            "We dance to the beat\n",
            "We dance to the beat\n",
            "We dance to the beat\n",
            "And we don't stop\n",
            "And we don't stop\n",
            "\n",
            "We dance to the beat of a billion charges of endorphin\n",
            "We dance to the beat\n",
            "We dance to the beat\n",
            "We dance to the beat of a love lost and then won back\n",
            "We dance to the beat\n",
            "We dance to the beat\n",
            "We dance to the beat of source code and conjuring\n",
            "We dance to the beat\n",
            "We dance to the beat\n",
            "We dance to the beat of gravity giving us a break\n",
            "We dance to the beat\n",
            "We dance to the beat\n",
            "We dance to the beat\n",
            "We dance...\n",
            "\n",
            "-----\n",
            "Top 3 songs by robyn with lowest sentiment:\n",
            "\"Don't Fucking Tell Me What To Do\"\n",
            "\n",
            "\n",
            "\n",
            "My drinking is killing me\n",
            "My drinking is killing me\n",
            "My drinking is killing me\n",
            "My drinking is killing me\n",
            "My drinking is killing me\n",
            "My drinking is killing me\n",
            "My drinking is killing me\n",
            "My drinking is killing me\n",
            "My drinking is killing me\n",
            "My drinking is killing me\n",
            "My drinking is killing me\n",
            "My drinking is killing me\n",
            "My drinking is killing me\n",
            "My drinking is killing me\n",
            "My drinking is killing me\n",
            "\n",
            "My smoking is killing me\n",
            "My diet is killing me\n",
            "My heels are killing me\n",
            "My shopping's killing me\n",
            "My ego is killing me\n",
            "Can't sleep, it's killing me\n",
            "My label's killing me\n",
            "Kickdrum\n",
            "\n",
            "My phone is killing me\n",
            "My email is killing me\n",
            "These hours are killing me\n",
            "My tour is killing me\n",
            "This flight is killing me\n",
            "My manager's killing me\n",
            "My mother's killing me\n",
            "My landlord's killing me\n",
            "My boss is killing me\n",
            "The TV is killing me\n",
            "Your nagging is killing me\n",
            "My boyfriend's killing me\n",
            "My talking's killing me\n",
            "Killing me\n",
            "Killing me\n",
            "\n",
            "Can't sleep, it's killing me\n",
            "My dreams are killing me\n",
            "TV is killing me\n",
            "My talking's killing me\n",
            "Let go, you're killing me\n",
            "Ease up, you're killing me\n",
            "Calm down, you're killing me\n",
            "My god, you're killing me\n",
            "\n",
            "My drinking is killing me\n",
            "My smoking is killing me\n",
            "My head is killing me\n",
            "My mind is killing me\n",
            "My back is killing me\n",
            "My neck is killing me\n",
            "Your nagging is killing me\n",
            "My gut is killing me\n",
            "My PMS is killing me\n",
            "My email is killing me\n",
            "These hours are killing me\n",
            "My tour is killing me\n",
            "This flight is killing me\n",
            "My manager's killing me\n",
            "My mother's killing me\n",
            "My landlord's killing me\n",
            "My smoking is killing me\n",
            "The TV is killing me\n",
            "Your nagging is killing me\n",
            "Ease up, you're killing me\n",
            "Let go, you're killing me\n",
            "Calm down, you're killing me\n",
            "My god, you're killing me\n",
            "\n",
            "Don't fucking tell me what to do, do\n",
            "Don't fucking tell me what to do, do, do, do, do\n",
            "Don't fucking tell me what to do\n",
            "Don't fucking tell me what to do, do\n",
            "Don't fucking tell me what to do, do\n",
            "Don't fucking tell me what to do\n",
            "Don't fucking tell me what to do\n",
            "Don't fucking tell me what to do\n",
            "Don't fucking tell me what to do\n",
            "\n",
            "-----\n",
            "\"Don't Fucking Tell Me What To Do\"\n",
            "\n",
            "\n",
            "\n",
            "My drinking is killing me\n",
            "My drinking is killing me\n",
            "My drinking is killing me\n",
            "My drinking is killing me\n",
            "My drinking is killing me\n",
            "My drinking is killing me\n",
            "My drinking is killing me\n",
            "My drinking is killing me\n",
            "My drinking is killing me\n",
            "My drinking is killing me\n",
            "My drinking is killing me\n",
            "My drinking is killing me\n",
            "My drinking is killing me\n",
            "My drinking is killing me\n",
            "My drinking is killing me\n",
            "\n",
            "My smoking is killing me\n",
            "My diet is killing me\n",
            "My heels are killing me\n",
            "My shopping's killing me\n",
            "My ego is killing me\n",
            "Can't sleep, it's killing me\n",
            "My label's killing me\n",
            "Kickdrum\n",
            "\n",
            "My phone is killing me\n",
            "My email is killing me\n",
            "These hours are killing me\n",
            "My tour is killing me\n",
            "This flight is killing me\n",
            "My manager's killing me\n",
            "My mother's killing me\n",
            "My landlord's killing me\n",
            "My boss is killing me\n",
            "The TV is killing me\n",
            "Your nagging is killing me\n",
            "My boyfriend's killing me\n",
            "My talking's killing me\n",
            "Killing me\n",
            "Killing me\n",
            "\n",
            "Can't sleep, it's killing me\n",
            "My dreams are killing me\n",
            "TV is killing me\n",
            "My talking's killing me\n",
            "Let go, you're killing me\n",
            "Ease up, you're killing me\n",
            "Calm down, you're killing me\n",
            "My god, you're killing me\n",
            "\n",
            "My drinking is killing me\n",
            "My smoking is killing me\n",
            "My head is killing me\n",
            "My mind is killing me\n",
            "My back is killing me\n",
            "My neck is killing me\n",
            "Your nagging is killing me\n",
            "My gut is killing me\n",
            "My PMS is killing me\n",
            "My email is killing me\n",
            "These hours are killing me\n",
            "My tour is killing me\n",
            "This flight is killing me\n",
            "My manager's killing me\n",
            "My mother's killing me\n",
            "My landlord's killing me\n",
            "My smoking is killing me\n",
            "The TV is killing me\n",
            "Your nagging is killing me\n",
            "Ease up, you're killing me\n",
            "Let go, you're killing me\n",
            "Calm down, you're killing me\n",
            "My god, you're killing me\n",
            "\n",
            "Don't fucking tell me what to do, do\n",
            "Don't fucking tell me what to do, do, do, do, do\n",
            "Don't fucking tell me what to do\n",
            "Don't fucking tell me what to do, do\n",
            "Don't fucking tell me what to do, do\n",
            "Don't fucking tell me what to do\n",
            "Don't fucking tell me what to do\n",
            "Don't fucking tell me what to do\n",
            "Don't fucking tell me what to do\n",
            "\n",
            "-----\n",
            "\"Criminal Intent\"\n",
            "\n",
            "\n",
            "\n",
            "Somebody alert the authorities, I got criminal intent\n",
            "Conspiracy to engage in lewd and indecent acts and events\n",
            "I'mma wind it, grind it, oh my, I'mma say it again\n",
            "Somebody alert the authorities, she's got criminal intent\n",
            "\n",
            "Somebody alert the authorities, I got criminal intent\n",
            "Conspiracy to engage in lewd and indecent acts and events\n",
            "I'mma wind it, grind it, oh my, I'mma say it again\n",
            "Somebody alert the authorities, she's got criminal intent\n",
            "\n",
            "Somebody alert the authorities, I got criminal intent\n",
            "Conspiracy to engage in lewd and indecent acts and events\n",
            "I'mma wind it, grind it, oh my, I'mma say it again\n",
            "Somebody alert the authorities, I got criminal intent\n",
            "\n",
            "- Will the defendant please rise? State your full name for the record.\n",
            "- Robyn\n",
            "- Do you wish to say anything before the sentence is imposed?\n",
            "- I do your Honor!\n",
            "\n",
            "You know, from time to time\n",
            "I need to get down\n",
            "Unwind and just bump and grind\n",
            "Get my shot on, have some fun\n",
            "A little dirty never hurt anyone\n",
            "I admit, I can get somewhat X-rated on the floor\n",
            "But your Honor, how's that something you get incarcerated for?\n",
            "\n",
            "I-I-I done nothing that's wrong \n",
            "?? something that's frowned upon\n",
            "I object most strongly Judge, they played my song\n",
            "\n",
            "Somebody alert the authorities, I got criminal intent\n",
            "Conspiracy to engage in lewd and indecent acts and events\n",
            "I'mma wind it, grind it, oh my, I'mma say it again\n",
            "Somebody alert the authorities, she's got criminal intent\n",
            "\n",
            "Somebody alert the authorities, I got criminal intent\n",
            "Conspiracy to engage in lewd and indecent acts and events\n",
            "I'mma wind it, grind it, oh my, I'mma say it again\n",
            "Somebody alert the authorities, I got criminal intent\n",
            "Somebody alert the authorities, she's got criminal intent\n",
            "\n",
            "Y-yo-yo Judge, may the record reflect the fact \n",
            "I don't have any priors\n",
            "Besides, would you pardon me \n",
            "For being inappropriately attired?\n",
            "But yo, listen, them cuffs down at county\n",
            "Totally ripped up my pantyhose\n",
            "And some snitch punk at legal aid\n",
            "Stole my voucher for court clothes\n",
            "\n",
            "I done nothing that's wrong \n",
            "?? something that's frowned upon\n",
            "I object most strongly Judge, they played my song\n",
            "\n",
            "Somebody alert the authorities, I got criminal intent\n",
            "Conspiracy to engage in lewd and indecent acts and events\n",
            "I'mma wind it, grind it, oh my, I'mma say it again\n",
            "Somebody alert the authorities, she's got criminal intent\n",
            "\n",
            "Somebody alert the authorities, I got criminal intent\n",
            "Conspiracy to engage in lewd and indecent acts and events\n",
            "I'mma wind it, grind it, oh my, I'mma say it again\n",
            "Somebody alert the authorities, I got criminal intent\n",
            "Somebody alert the authorities, she's got criminal intent\n",
            "\n",
            "-----\n"
          ]
        }
      ]
    },
    {
      "cell_type": "markdown",
      "source": [
        "Q: For your second artist, what are the three songs that have the highest and lowest sentiments? Print the lyrics of those songs to the screen. What do you think is driving the sentiment score? \n",
        "\n",
        "A: <!-- Your answer here -->they is have more positive words in the top three or have a higher frequency of the negative words in bottom three \n"
      ],
      "metadata": {
        "id": "nPREmOoqV13p"
      },
      "id": "nPREmOoqV13p"
    },
    {
      "cell_type": "code",
      "source": [
        "artist = 'cher'\n",
        "artist_lyrics = lyrics_data[lyrics_data['artist'] == artist]\n",
        "artist_lyrics_sorted = artist_lyrics.sort_values('sentiment_score', ascending=False)\n",
        "\n",
        "print(f\"Top 3 songs by {artist} with highest sentiment:\")\n",
        "for i in range(3):\n",
        "    print(artist_lyrics_sorted.iloc[i]['lyrics'])\n",
        "    print(\"-----\")\n",
        "\n",
        "print(f\"Top 3 songs by {artist} with lowest sentiment:\")\n",
        "for i in range(-1, -4, -1):\n",
        "    print(artist_lyrics_sorted.iloc[i]['lyrics'])"
      ],
      "metadata": {
        "colab": {
          "base_uri": "https://localhost:8080/",
          "height": 0
        },
        "id": "2y70jtmLV2mK",
        "outputId": "959cbdfb-0a38-4a45-eae5-c7324b7afa6c"
      },
      "id": "2y70jtmLV2mK",
      "execution_count": 34,
      "outputs": [
        {
          "output_type": "stream",
          "name": "stdout",
          "text": [
            "Top 3 songs by cher with highest sentiment:\n",
            "\"My Love\"\n",
            "\n",
            "\n",
            "\n",
            "When I go away\n",
            "I know my heart can stay with my love\n",
            "It's understood\n",
            "Everywhere with my love\n",
            "My love does it good, whoa\n",
            "My love, oh only my love\n",
            "My love does it good\n",
            "\n",
            "And when the cupboard's bare\n",
            "I'll still find something there with my love\n",
            "It's understood\n",
            "Everywhere with my love\n",
            "My love does it so good, whoa\n",
            "My love, oh only my love\n",
            "My love does it good\n",
            "\n",
            "Only my love, oh only my love\n",
            "Only my love, hold the other things to me\n",
            "Oh, only my love, oh only my love\n",
            "Only my love does it good to me\n",
            "\n",
            "Everywhere with my love\n",
            "Don't you see my love\n",
            "It does it so good\n",
            "Oh, only my love, only my love\n",
            "My love does it good\n",
            "\n",
            "Don't ever ask me why\n",
            "I never say \"good-bye\" to my love\n",
            "It's understood\n",
            "'Cause everywhere with my love\n",
            "My love does it good, whoa\n",
            "Only my love, oh only my love\n",
            "My love does it good\n",
            "\n",
            "Oh only my love\n",
            "Only my love does it good to me,whoa\n",
            "\n",
            "-----\n",
            "\"Love And Understanding\"\n",
            "\n",
            "\n",
            "\n",
            "Here, here in this world\n",
            "Where do we go? Where can we turn?\n",
            "When we need some love\n",
            "It seems that love just can't be found\n",
            "Where, where do we stand?\n",
            "When love's supply don't meet love's demand\n",
            "\n",
            "We got enough stars to light the sky at night\n",
            "Enough sun to make to make the whole world bright\n",
            "We got more than enough\n",
            "But there's one thing there's just not enough of\n",
            "\n",
            "Not enough love and understanding\n",
            "We could use some love to ease these troubled times\n",
            "Not enough love and understanding\n",
            "Why, oh why?\n",
            "\n",
            "Spend all of our time\n",
            "Building buildings up to the sky\n",
            "Reaching everywhere\n",
            "But where we need to reach the most\n",
            "Hearts never can win\n",
            "Oh, in this race, this race that we're in\n",
            "\n",
            "We've got enough cars to drive around the world\n",
            "Enough planes to take us anywhere\n",
            "We got more than enough\n",
            "But there's one thing there's just not enough of\n",
            "\n",
            "Not enough love and understanding\n",
            "We could use some love to ease these troubled times\n",
            "Not enough love and understanding\n",
            "Why, oh why?\n",
            "\n",
            "Not enough love and understanding\n",
            "We could use some love to ease these troubled times\n",
            "Not enough love and understanding\n",
            "Why, oh why?\n",
            "\n",
            "We need some understandin'\n",
            "We need a little more love\n",
            "Some love and understandin'\n",
            "\n",
            "Enough stars to light the sky at night\n",
            "Enough sun to make the whole world bright\n",
            "Enough hearts to find some love inside\n",
            "We got more than enough\n",
            "But there's one thing there's just not enough of\n",
            "\n",
            "Not enough love and understanding\n",
            "We could use some love to ease these troubled times\n",
            "Not enough love and understanding\n",
            "Why, oh why?\n",
            "...\n",
            "\n",
            "-----\n",
            "\"Sunny\"\n",
            "\n",
            "\n",
            "\n",
            "Sunny, yesterday my life was filled with rain\n",
            "Sunny, you smiled at me and then it eased my pain\n",
            "Now the dark days are gone and bright days are here\n",
            "My Sunny once shined so sincere, Sunny once so true\n",
            "I love you I love you\n",
            "\n",
            "Sunny thank you for the sunshine you gave to me\n",
            "Sunny thank you for the love you brought my way\n",
            "You gave to me your all and all\n",
            "And now I feel that I'm 10 feet tall\n",
            "Sunny once so true, I love you\n",
            "\n",
            "Sunny thank you for the truth that you let me see\n",
            "Sunny thank you for the facts from A to Z\n",
            "Somehow I was torn like a wind blown sail\n",
            "Then our love was borned when you held my hand\n",
            "Sunny once so true, I love you\n",
            "\n",
            "Sunny thank you for the sunshine you gave to me\n",
            "Sunny thank you for the love you brought my way\n",
            "You gave to me your all and all\n",
            "And now I feel that I'm 10 feet tall\n",
            "Sunny once so true, I love you\n",
            "\n",
            "-----\n",
            "Top 3 songs by cher with lowest sentiment:\n",
            "\"Bang-Bang\"\n",
            "\n",
            "\n",
            "\n",
            "Bang bang you shot me down\n",
            "Bang bang I hit the ground\n",
            "Bang bang that awful sound\n",
            "Bang bang my baby shot me down\n",
            "\n",
            "I was five and you were six\n",
            "We rode on horses made of sticks\n",
            "I wore black you wore white\n",
            "You would always win the fight\n",
            "\n",
            "Bang bang you shot me down\n",
            "Bang bang I hit the ground\n",
            "Bang bang that awful sound\n",
            "Bang bang my baby shot me down\n",
            "\n",
            "Seasons came and changed the time\n",
            "I grew up I called you mine\n",
            "You would always laugh and say\n",
            "Remember when we used to play\n",
            "\n",
            "Bang bang you shot me down\n",
            "Bang bang and I hit the ground\n",
            "Bang bang that awful sound\n",
            "Bang bang my baby shot me down\n",
            "\n",
            "Music played and people sang\n",
            "Just for me the church bells rang\n",
            "After echoes from a gun\n",
            "We both vowed that we'd be one\n",
            "\n",
            "Now you're gone I don't know why\n",
            "Sometimes I cry\n",
            "You didn't say goodbye\n",
            "You didn't take the time to lie\n",
            "\n",
            "Bang bang you shot me down\n",
            "Bang bang I hit the ground\n",
            "Bang bang that awful sound\n",
            "Bang bang my baby shot me down\n",
            "\n",
            "Bang bang you shot me right between my eyes\n",
            "Bang bang you can't go paralyzed\n",
            "Bang bang bang bang bang bang\n",
            "Bang bang oh baby I'm laying on the ground\n",
            "Bang bang I'll never come around\n",
            "\n",
            "Bang bang\n",
            "Bang bang\n",
            "Oh baby\n",
            "Bang bang\n",
            "Oh baby come and wrap me\n",
            "Bang bang\n",
            "You see how sweet it's gonna be\n",
            "\n",
            "Bang bang\n",
            "Bang bang\n",
            "Bang bang\n",
            "Oh my baby my baby shot me down\n",
            "Bang bang\n",
            "I'm up on the ground now\n",
            "\n",
            "\"Bang Bang (My Baby Shot Me Down)\"\n",
            "\n",
            "\n",
            "\n",
            "I was five and he was six\n",
            "We rode on horses made of sticks\n",
            "He wore black and I wore white\n",
            "He would always win the fight\n",
            "\n",
            "Bang bang, he shot me down\n",
            "Bang bang, I hit the ground\n",
            "Bang bang, that awful sound\n",
            "Bang bang, my baby shot me down\n",
            "\n",
            "Seasons came and changed the time\n",
            "When I grew up I called him mine\n",
            "He would always laugh and say\n",
            "Remember when we used to play\n",
            "\n",
            "Bang bang, I shot you down\n",
            "Bang bang, you hit the ground\n",
            "Bang bang, that awful sound\n",
            "Bang bang, I used to shoot you down\n",
            "\n",
            "Music played and people sang\n",
            "Just for me the church bells rang\n",
            "\n",
            "Now he's gone I don't know why\n",
            "And 'til this day, sometimes I cry\n",
            "He didn't even say goodbye\n",
            "He didn't take the time to lie\n",
            "\n",
            "Bang bang, he shot me down\n",
            "Bang bang, I hit the ground\n",
            "Bang bang, that awful sound\n",
            "Bang bang, my baby shot me down\n",
            "\n",
            "\"Cry Myself To Sleep\"\n",
            "\n",
            "\n",
            "\n",
            "Every night, I lay my head\n",
            "On my pillow on my bed\n",
            "And I just cry myself to sleep\n",
            "\n",
            "I know I shouldn't cry\n",
            "Over words that were all lies\n",
            "But still, I cry myself to sleep\n",
            "\n",
            "Each night, I fight the tears\n",
            "But still they fall\n",
            "And all the memories linger on\n",
            "He's gone, he's gone\n",
            "And now there's nothing but to cry\n",
            "Cry myself to sleep\n",
            "Still, I cry myself to sleep\n",
            "\n",
            "Each night, I fight those tears\n",
            "But still, they fall\n",
            "And all the memories linger on\n",
            "He's gone, he's gone, he's gone\n",
            "And now there's nothing but to cry\n",
            "Ah, cry myself to sleep\n",
            "Ah, cry myself to sleep\n",
            "Ah, cry myself to sleep\n",
            "\n"
          ]
        }
      ]
    },
    {
      "cell_type": "markdown",
      "source": [
        "Q: Plot the distributions of the sentiment scores for both artists. You can use `seaborn` to plot densities or plot histograms in matplotlib.\n"
      ],
      "metadata": {
        "id": "9SOIVhmIV3Hk"
      },
      "id": "9SOIVhmIV3Hk"
    },
    {
      "cell_type": "code",
      "source": [
        "import seaborn as sns\n",
        "import matplotlib.pyplot as plt \n",
        "# Filter the data by artist\n",
        "robyn_data = lyrics_data[lyrics_data['artist'] == 'robyn']\n",
        "cher_data = lyrics_data[lyrics_data['artist'] == 'cher']\n",
        "\n",
        "# Plot the distributions using seaborn\n",
        "sns.kdeplot(data=robyn_data['sentiment_score'], label='Robyn')\n",
        "sns.kdeplot(data=cher_data['sentiment_score'], label='Cher')\n",
        "\n",
        "# Add a title and axis labels\n",
        "plt.title('Sentiment Score Distributions by Artist')\n",
        "plt.xlabel('Sentiment Score')\n",
        "plt.ylabel('Density')\n",
        "\n",
        "# Show the plot\n",
        "plt.show()"
      ],
      "metadata": {
        "colab": {
          "base_uri": "https://localhost:8080/",
          "height": 295
        },
        "id": "wj0RTSQcV7Jc",
        "outputId": "f34a629a-1a52-4c15-e8d4-b3abc8d786d1"
      },
      "id": "wj0RTSQcV7Jc",
      "execution_count": 35,
      "outputs": [
        {
          "output_type": "display_data",
          "data": {
            "text/plain": [
              "<Figure size 432x288 with 1 Axes>"
            ],
            "image/png": "[encoded data removed]"
          },
          "metadata": {
            "needs_background": "light"
          }
        }
      ]
    },
    {
      "cell_type": "markdown",
      "id": "b3fe644d",
      "metadata": {
        "id": "b3fe644d"
      },
      "source": [
        "## Sentiment Analysis on Twitter Descriptions\n",
        "\n",
        "In this section, define two sets of emojis you designate as positive and negative. Make sure to have at least 10 emojis per set. You can learn about the most popular emojis on Twitter at [the emojitracker](https://emojitracker.com/). \n",
        "\n",
        "Associate your positive emojis with a score of +1, negative with -1. Score the average sentiment of your two artists based on the Twitter descriptions of their followers. The average sentiment can just be the total score divided by number of followers. You do not need to calculate sentiment on non-emoji content for this section."
      ]
    },
    {
      "cell_type": "code",
      "source": [
        "# your code here"
      ],
      "metadata": {
        "id": "0eEUad64f33Z"
      },
      "id": "0eEUad64f33Z",
      "execution_count": 39,
      "outputs": []
    },
    {
      "cell_type": "code",
      "source": [
        "# Define the positive and negative emojis \n",
        "positive_emojis = ['😀', '😁', '😂', '😊', '😍', '😘', '🤗', '👍', '💯', '🔥']\n",
        "negative_emojis = ['😔', '😞', '😢', '😠', '😡', '👎', '💔', '💩', '👿', '🤬']\n",
        "positive_score = 1\n",
        "negative_score = -1\n"
      ],
      "metadata": {
        "id": "jN_n6Kt6fUKl"
      },
      "id": "jN_n6Kt6fUKl",
      "execution_count": 43,
      "outputs": []
    },
    {
      "cell_type": "code",
      "source": [
        "# Define a function to score the sentiment based on the emojis \n",
        "def score_emoji_sentiment(description):\n",
        "    sentiment_score = 0\n",
        "    for char in description:\n",
        "        if char in positive_emojis:\n",
        "            sentiment_score += positive_score\n",
        "        elif char in negative_emojis:\n",
        "            sentiment_score += negative_score\n",
        "    return sentiment_score"
      ],
      "metadata": {
        "id": "iAGpGD-_gKUD"
      },
      "id": "iAGpGD-_gKUD",
      "execution_count": 44,
      "outputs": []
    },
    {
      "cell_type": "code",
      "execution_count": 45,
      "id": "1a5c1d25",
      "metadata": {
        "id": "1a5c1d25"
      },
      "outputs": [],
      "source": [
        "# your code here\n",
        "# Apply the score_emoji_sentiment function to the Twitter dataframe\n",
        "twitter_data['sentiment_score'] = twitter_data['description'].astype(str).apply(score_emoji_sentiment)"
      ]
    },
    {
      "cell_type": "markdown",
      "source": [
        "Q: What is the average sentiment of your two artists? \n",
        "\n",
        "A: <!-- Your answer here --> "
      ],
      "metadata": {
        "id": "o_UT0gJRh8N1"
      },
      "id": "o_UT0gJRh8N1"
    },
    {
      "cell_type": "code",
      "source": [
        "avg_sentiment = twitter_data.groupby('handle')['sentiment_score'].mean()\n",
        "print(avg_sentiment)"
      ],
      "metadata": {
        "colab": {
          "base_uri": "https://localhost:8080/",
          "height": 0
        },
        "id": "W9_ln9oKdSar",
        "outputId": "a82cd881-62ef-4ae0-f8d6-c96d3259727b"
      },
      "id": "W9_ln9oKdSar",
      "execution_count": 47,
      "outputs": [
        {
          "output_type": "stream",
          "name": "stdout",
          "text": [
            "handle\n",
            "cher              0.009437\n",
            "robynkonichiwa    0.004351\n",
            "Name: sentiment_score, dtype: float64\n"
          ]
        }
      ]
    },
    {
      "cell_type": "markdown",
      "id": "fb92eb93",
      "metadata": {
        "id": "fb92eb93"
      },
      "source": [
        "\n",
        "Q: Which positive emoji is the most popular for each artist? Which negative emoji? \n",
        "\n",
        "A: <!-- Your answer here --> \n",
        "\n"
      ]
    },
    {
      "cell_type": "code",
      "source": [
        "# Define a function to count the number of times each emoji appears in the dataframe\n",
        "def count_emojis(emojis, data):\n",
        "    emoji_counts = {}\n",
        "    for emoji in emojis:\n",
        "        count = data['description'].str.count(emoji).sum()\n",
        "        emoji_counts[emoji] = count\n",
        "    return emoji_counts\n"
      ],
      "metadata": {
        "id": "fMmXpNrkjo5-"
      },
      "id": "fMmXpNrkjo5-",
      "execution_count": 49,
      "outputs": []
    },
    {
      "cell_type": "code",
      "source": [
        "#for cher\n",
        "cher_data = twitter_data[twitter_data['handle'] == 'cher']\n",
        "\n",
        "# Count the number of positive and negative emojis for Cher's followers\n",
        "positive_counts = count_emojis(positive_emojis, cher_data)\n",
        "negative_counts = count_emojis(negative_emojis, cher_data)\n",
        "\n",
        "# Determine the most popular positive and negative emojis\n",
        "most_popular_positive = max(positive_counts, key=positive_counts.get)\n",
        "most_popular_negative = max(negative_counts, key=negative_counts.get)\n",
        "\n",
        "# Print the most popular positive and negative emojis\n",
        "print(f\"The most popular positive emoji for Cher's followers is {most_popular_positive}\")\n",
        "print(f\"The most popular negative emoji for Cher's followers is {most_popular_negative}\")"
      ],
      "metadata": {
        "colab": {
          "base_uri": "https://localhost:8080/",
          "height": 0
        },
        "id": "H7j-G4nhh--c",
        "outputId": "a0fc139a-c63b-4dcb-9f13-b0887b17f2df"
      },
      "id": "H7j-G4nhh--c",
      "execution_count": 50,
      "outputs": [
        {
          "output_type": "stream",
          "name": "stdout",
          "text": [
            "The most popular positive emoji for Cher's followers is 😍\n",
            "The most popular negative emoji for Cher's followers is 💔\n"
          ]
        }
      ]
    },
    {
      "cell_type": "code",
      "source": [
        "#for robynkonichiwa\n",
        "robyn_data = twitter_data[twitter_data['handle'] == \"robynkonichiwa\"]\n",
        "\n",
        "# Count the number of positive and negative emojis for Cher's followers\n",
        "positive_counts = count_emojis(positive_emojis, robyn_data)\n",
        "negative_counts = count_emojis(negative_emojis, robyn_data)\n",
        "\n",
        "# Determine the most popular positive and negative emojis\n",
        "most_popular_positive = max(positive_counts, key=positive_counts.get)\n",
        "most_popular_negative = max(negative_counts, key=negative_counts.get)\n",
        "\n",
        "# Print the most popular positive and negative emojis\n",
        "print(f\"The most popular positive emoji for robynkonichiwa's followers is {most_popular_positive}\")\n",
        "print(f\"The most popular negative emoji for robynkonichiwa's followers is {most_popular_negative}\")"
      ],
      "metadata": {
        "colab": {
          "base_uri": "https://localhost:8080/",
          "height": 0
        },
        "id": "3IXhzjMYjv7A",
        "outputId": "b8e6c8b2-97e6-4431-c234-fc6b0f92b257"
      },
      "id": "3IXhzjMYjv7A",
      "execution_count": 51,
      "outputs": [
        {
          "output_type": "stream",
          "name": "stdout",
          "text": [
            "The most popular positive emoji for robynkonichiwa's followers is 🔥\n",
            "The most popular negative emoji for robynkonichiwa's followers is 💔\n"
          ]
        }
      ]
    }
  ],
  "metadata": {
    "kernelspec": {
      "display_name": "Python 3 (ipykernel)",
      "language": "python",
      "name": "python3"
    },
    "language_info": {
      "codemirror_mode": {
        "name": "ipython",
        "version": 3
      },
      "file_extension": ".py",
      "mimetype": "text/x-python",
      "name": "python",
      "nbconvert_exporter": "python",
      "pygments_lexer": "ipython3",
      "version": "3.9.6"
    },
    "colab": {
      "provenance": []
    },
    "accelerator": "GPU",
    "gpuClass": "standard"
  },
  "nbformat": 4,
  "nbformat_minor": 5
}